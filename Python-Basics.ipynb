{
 "cells": [
  {
   "cell_type": "markdown",
   "id": "93fd0183",
   "metadata": {},
   "source": [
    "*Welcome to \"Introduction to Python course\"!\\\n",
    "Instructor: Dr. Somnath Dutta\\\n",
    "Affiliation: ASIAA, Taipei, Taiwan\\\n",
    "            -- 2024 --*\n",
    "            "
   ]
  },
  {
   "cell_type": "markdown",
   "id": "12c32e5d",
   "metadata": {},
   "source": [
    "# Print\n",
    "*How `print` works in python.*"
   ]
  },
  {
   "cell_type": "code",
   "execution_count": 1,
   "id": "a6b6e376",
   "metadata": {},
   "outputs": [
    {
     "name": "stdout",
     "output_type": "stream",
     "text": [
      "**********\n"
     ]
    }
   ],
   "source": [
    "print('*'*10) "
   ]
  },
  {
   "cell_type": "code",
   "execution_count": 2,
   "id": "79e4d873",
   "metadata": {},
   "outputs": [
    {
     "name": "stdout",
     "output_type": "stream",
     "text": [
      "Welcome to somastro Python Tutorial Page\n"
     ]
    }
   ],
   "source": [
    "print('Welcome to somastro Python Tutorial Page')"
   ]
  },
  {
   "cell_type": "code",
   "execution_count": 3,
   "id": "db75064a",
   "metadata": {},
   "outputs": [
    {
     "name": "stdout",
     "output_type": "stream",
     "text": [
      "Welcome to somastro's Python Tutorial Page\n"
     ]
    }
   ],
   "source": [
    "print(\"Welcome to somastro's Python Tutorial Page\")\n",
    "# If you want to ' ' inside use \"\""
   ]
  },
  {
   "cell_type": "markdown",
   "id": "8e24bbbb",
   "metadata": {},
   "source": [
    "# Variables\n",
    "*Variables to temporarily store data in computer memory.\\\n",
    "How we define variables.*\n"
   ]
  },
  {
   "cell_type": "code",
   "execution_count": 4,
   "id": "68eddad4",
   "metadata": {},
   "outputs": [
    {
     "name": "stdout",
     "output_type": "stream",
     "text": [
      "20\n",
      "4.9\n",
      "Som\n",
      "True\n"
     ]
    }
   ],
   "source": [
    "price = 20 #integer\n",
    "print(price) # No quotation; if quotation then print the string itself e.g., 'price'\n",
    "\n",
    "rating = 4.9 #float\n",
    "print(rating)\n",
    "name = 'Som' #String\n",
    "print(name)\n",
    "\n",
    "# Another kind of variable; called boolean\n",
    "is_published = True #or False;  case sensitive\n",
    "print(is_published) "
   ]
  },
  {
   "cell_type": "markdown",
   "id": "df41db13",
   "metadata": {},
   "source": [
    "# `input` methods and Add strings"
   ]
  },
  {
   "cell_type": "code",
   "execution_count": 5,
   "id": "81478776",
   "metadata": {},
   "outputs": [
    {
     "name": "stdout",
     "output_type": "stream",
     "text": [
      "What is your name?  Somnath\n",
      "What is the favorite color? Blue\n",
      "Somnath likes Blue.\n"
     ]
    }
   ],
   "source": [
    "full_name = 'Somnath Dutta'\n",
    "age = 100\n",
    "is_new =True\n",
    "\n",
    "#How to receive input from user.\n",
    "name  = input('What is your name?  ') #`input` function is buit into python; similar to `print` function\n",
    "        #() - calling or excuting that function\n",
    "favorite_color = input('What is the favorite color? ')\n",
    "print(name + ' likes ' + favorite_color+'.')   #concatenating two string."
   ]
  },
  {
   "cell_type": "markdown",
   "id": "25486f3e",
   "metadata": {},
   "source": [
    "# Type Conversion\n",
    "*int(), float(), or  bool()*"
   ]
  },
  {
   "cell_type": "code",
   "execution_count": 6,
   "id": "685b6ec8",
   "metadata": {},
   "outputs": [
    {
     "name": "stdout",
     "output_type": "stream",
     "text": [
      "Present year: 2024\n",
      "Birth year: 1930\n",
      "Age is 94\n",
      "Age type is <class 'int'>\n"
     ]
    }
   ],
   "source": [
    "present_year = input('Present year: ') \n",
    "birth_year = input('Birth year: ') \n",
    "\n",
    "# `input` always takes as string. To perform mathematical operation convert to int() or float().\n",
    "# int() #float() or # bool()\n",
    "\n",
    "age = int(present_year) - int(birth_year)\n",
    "print('Age is',age)\n",
    "\n",
    "#Type of variable \"age\"\n",
    "print('Age type is', type(age)) #here answer is 'int' class."
   ]
  },
  {
   "cell_type": "code",
   "execution_count": 7,
   "id": "0c0d1f69",
   "metadata": {},
   "outputs": [
    {
     "name": "stdout",
     "output_type": "stream",
     "text": [
      "Weight in lbs:  98\n",
      "Weight in kg: 44.1\n"
     ]
    }
   ],
   "source": [
    "weight_lbs = input('Weight in lbs:  ')\n",
    "weight_kgs = float(weight_lbs) * 0.45\n",
    "print('Weight in kg:',weight_kgs)"
   ]
  },
  {
   "cell_type": "markdown",
   "id": "7a2aba0a",
   "metadata": {},
   "source": [
    "# Strings"
   ]
  },
  {
   "cell_type": "code",
   "execution_count": 8,
   "id": "6197ca1f",
   "metadata": {},
   "outputs": [
    {
     "name": "stdout",
     "output_type": "stream",
     "text": [
      "Output 01: Welcome to course on Python for Beginners\n",
      "Output 02: 'Python's for Beginners\n",
      "Output 03: \n",
      "Hi Som\n",
      "\n",
      "Facebook?\n",
      "\n",
      "Tiktok?\n",
      "\n",
      "Output 04: s\n",
      "Output 05: Welco\n",
      "Output 06: Welcome to course on Python for Beginners\n",
      "Output 07: Welco\n",
      "Output 08: Welcome to course on Python for Beginners\n",
      "Output 09: elcome to course on Python for Beginner\n"
     ]
    }
   ],
   "source": [
    "course1 = 'Welcome to course on Python for Beginners'\n",
    "# If you want to ' ' inside use \"\"\n",
    "print('Output 01: '+course1)\n",
    "\n",
    "course2 = \"'Python's for Beginners\"\n",
    "print('Output 02: '+course2)\n",
    "\n",
    "course3 = '''\n",
    "Hi Som\n",
    "\n",
    "Facebook?\n",
    "\n",
    "Tiktok?\n",
    "'''\n",
    "print('Output 03: '+course3)\n",
    "print('Output 04: '+course1[-1]) #last index  -1\n",
    "print('Output 05: '+course1[0:5]) #excluding index 5\n",
    "print('Output 06: '+course1[0:])# starting from 0 to next all index\n",
    "print('Output 07: '+course1[:5]) # starting from 0 to 4th index (excluding 5)\n",
    "print('Output 08: '+course1[:]) # Print All\n",
    "print('Output 09: '+course1[1:-1]) #starting from index 1 to last except last index i.e. -1"
   ]
  },
  {
   "cell_type": "code",
   "execution_count": 9,
   "id": "31be2140",
   "metadata": {},
   "outputs": [
    {
     "name": "stdout",
     "output_type": "stream",
     "text": [
      "Output 01: Somnath [Dutta] is a coder\n",
      "Output 02: Somnath [Dutta] is a coder\n"
     ]
    }
   ],
   "source": [
    "# Formatted String\n",
    "first = 'Somnath'\n",
    "last = 'Dutta'\n",
    "message = first + ' [' + last + '] is a coder'\n",
    "print('Output 01: '+message)\n",
    "\n",
    "#Use formatted string\n",
    "# formatted string prefix with f\n",
    "msg = f'{first} [{last}] is a coder'\n",
    "print('Output 02: '+msg)"
   ]
  },
  {
   "cell_type": "code",
   "execution_count": 10,
   "id": "b0d1eb65",
   "metadata": {},
   "outputs": [
    {
     "name": "stdout",
     "output_type": "stream",
     "text": [
      "6\n"
     ]
    }
   ],
   "source": [
    "# String Methods\n",
    "\n",
    "course = 'python'\n",
    "\n",
    "print(len(course)) # lenght of the string; general purpose function"
   ]
  },
  {
   "cell_type": "code",
   "execution_count": 11,
   "id": "fdd037ef",
   "metadata": {},
   "outputs": [
    {
     "data": {
      "text/plain": [
       "'Python'"
      ]
     },
     "execution_count": 11,
     "metadata": {},
     "output_type": "execute_result"
    }
   ],
   "source": [
    "##DOT  operators\n",
    "course = 'python'\n",
    "\n",
    "#1. \n",
    "course.capitalize()   # dot operator; called methods\n",
    "# Shift + tab = will show th options after dot operator.\n",
    "\n",
    "\n",
    "#2. course.find('p') # find the index of P; case sensitive\n",
    "\n",
    "\n",
    "#3.  print(course.replace('ython', '-Cython')) #  case sensitive\n",
    "\n",
    "\n",
    "# Method to find existence\n",
    "\n",
    "#4.  print('py' in course)  # provide boolean value ; called boolian expression\n",
    "# This is same as .find, but it provide boolean; find provide index"
   ]
  },
  {
   "cell_type": "markdown",
   "id": "043f9ce3",
   "metadata": {},
   "source": [
    "# Arithmetic Operation"
   ]
  },
  {
   "cell_type": "code",
   "execution_count": 12,
   "id": "037e103b",
   "metadata": {},
   "outputs": [
    {
     "name": "stdout",
     "output_type": "stream",
     "text": [
      "13\n",
      "3.3333333333333335\n",
      "3\n",
      "1\n",
      "2\n",
      "1000\n"
     ]
    }
   ],
   "source": [
    "10 #integer\n",
    "10.234 #float\n",
    "\n",
    "\n",
    "print(10+3) #-, * etc\n",
    "\n",
    "# We have two kind to division forward /\n",
    "print(10/3) #provide floating point\n",
    "print(10//3) #provide ineteger\n",
    "print(10%3) #'modulus' operator provide residue/remainder in integer\n",
    "print(10%4) #modulus provide residue/remainder in integer\n",
    "print(10 **3) #Asterisks; provide power"
   ]
  },
  {
   "cell_type": "markdown",
   "id": "54beaddb",
   "metadata": {},
   "source": [
    "# Augmented assignment operator"
   ]
  },
  {
   "cell_type": "code",
   "execution_count": 13,
   "id": "44321422",
   "metadata": {},
   "outputs": [
    {
     "name": "stdout",
     "output_type": "stream",
     "text": [
      "13\n"
     ]
    },
    {
     "data": {
      "text/plain": [
       "13.0"
      ]
     },
     "execution_count": 13,
     "metadata": {},
     "output_type": "execute_result"
    }
   ],
   "source": [
    "x = 10\n",
    "x = 10 + 3\n",
    "print(x)\n",
    "\n",
    "#similarly,\n",
    "x += 3 #exactly same as x = x + 3\n",
    "x -= 3 # subtract x = x - 3\n",
    "x *= 3 # multiplication x = x * 3\n",
    "x /= 3 # division x = x / 3\n",
    "x"
   ]
  },
  {
   "cell_type": "code",
   "execution_count": 14,
   "id": "16f079bd",
   "metadata": {},
   "outputs": [
    {
     "name": "stdout",
     "output_type": "stream",
     "text": [
      "22\n"
     ]
    }
   ],
   "source": [
    "# operator procedure\n",
    "\n",
    "# exponentiation # 2**3\n",
    "# division - multiplication  # 2/3 then 2*3\n",
    "# subtraction then addition\n",
    "# Parenthesis takes priority\n",
    "\n",
    "x = 10 + 3 * 2**2\n",
    "print(x)"
   ]
  },
  {
   "cell_type": "markdown",
   "id": "5f2851b2",
   "metadata": {},
   "source": [
    "# Math Functions"
   ]
  },
  {
   "cell_type": "code",
   "execution_count": 15,
   "id": "31acaca9",
   "metadata": {},
   "outputs": [
    {
     "name": "stdout",
     "output_type": "stream",
     "text": [
      "3\n",
      "1\n"
     ]
    }
   ],
   "source": [
    "x = 2.9\n",
    "print(round(x))\n",
    "print(abs(-1))"
   ]
  },
  {
   "cell_type": "markdown",
   "id": "0205dfb4",
   "metadata": {},
   "source": [
    "#  Module import"
   ]
  },
  {
   "cell_type": "code",
   "execution_count": 16,
   "id": "62ccf36a",
   "metadata": {},
   "outputs": [
    {
     "name": "stdout",
     "output_type": "stream",
     "text": [
      "3\n",
      "2\n"
     ]
    }
   ],
   "source": [
    "\n",
    "import math # Now math is an object\n",
    "print(math.ceil(2.9)) #round\n",
    "print(math.floor(2.9)) # floor 2\n"
   ]
  },
  {
   "cell_type": "markdown",
   "id": "135a27d4",
   "metadata": {},
   "source": [
    "# if Statement"
   ]
  },
  {
   "cell_type": "code",
   "execution_count": 17,
   "id": "7f8b0374",
   "metadata": {},
   "outputs": [
    {
     "name": "stdout",
     "output_type": "stream",
     "text": [
      "It is a lovely day.\n",
      "Enjoy your day\n"
     ]
    }
   ],
   "source": [
    "# define boolean variable\n",
    "is_hot = False #True\n",
    "is_cold = False #True\n",
    "\n",
    "if is_hot:  #Only perform if True\n",
    "    print(\"It is a hot and dry day\")\n",
    "    print(\"Drink plenty of water to keep yourself hydrated.\")\n",
    "elif is_cold:  #Only perform if True\n",
    "    print('It is cold day, you should wear warm cloths.')  \n",
    "else:\n",
    "    print('It is a lovely day.')\n",
    "    \n",
    "## shift+tab to remove indentation\n",
    "print(\"Enjoy your day\")\n"
   ]
  },
  {
   "cell_type": "code",
   "execution_count": 18,
   "id": "f1552b59",
   "metadata": {},
   "outputs": [
    {
     "name": "stdout",
     "output_type": "stream",
     "text": [
      "Down Payment: $100000.0\n"
     ]
    }
   ],
   "source": [
    "price = 1e6 #or 1,000,000\n",
    "#price = 10**6  #1,000,000\n",
    "has_good_credit = True\n",
    "\n",
    "if has_good_credit:\n",
    "    down_payment = 0.1 * price\n",
    "else:\n",
    "    down_payment = 0.2 * price\n",
    "print(f\"Down Payment: ${down_payment}\")"
   ]
  },
  {
   "cell_type": "markdown",
   "id": "87176058",
   "metadata": {},
   "source": [
    "# Logical Operation `and` and `or`"
   ]
  },
  {
   "cell_type": "code",
   "execution_count": 19,
   "id": "367a7065",
   "metadata": {},
   "outputs": [
    {
     "name": "stdout",
     "output_type": "stream",
     "text": [
      "Eligible for Loan\n",
      "Eligible for Loan\n"
     ]
    }
   ],
   "source": [
    "has_high_income = True\n",
    "has_good_credit = True\n",
    "\n",
    "### Logical `and`\n",
    "if has_high_income and has_good_credit: #if both are True, then it proceeds to next command.\n",
    "    print(\"Eligible for Loan\")\n",
    "\n",
    "###########\n",
    "has_high_income = False\n",
    "has_good_credit = True\n",
    "\n",
    "# Logical `or`\n",
    "if has_high_income or has_good_credit: #Either one should be true\n",
    "    print(\"Eligible for Loan\")\n",
    "\n",
    "\n",
    "#AND : both should be true\n",
    "#OR: Either one should be true\n",
    "#NOT: If we give true boolean value, it converted to false"
   ]
  },
  {
   "cell_type": "code",
   "execution_count": 20,
   "id": "6ac9a158",
   "metadata": {},
   "outputs": [
    {
     "name": "stdout",
     "output_type": "stream",
     "text": [
      "Eligible for Loan\n"
     ]
    }
   ],
   "source": [
    "has_good_credit = True\n",
    "has_criminal_record = False\n",
    "\n",
    "if has_good_credit and not has_criminal_record: \n",
    "    #not converted to opposite from False to True, or vice versa.\n",
    "    #Here, has_criminal_record = False, \n",
    "    #but `not has_criminal_record` = True, so proceeds to next command.\n",
    "    print(\"Eligible for Loan\")"
   ]
  },
  {
   "cell_type": "markdown",
   "id": "8bbb460c",
   "metadata": {},
   "source": [
    "# Comparison Operator"
   ]
  },
  {
   "cell_type": "code",
   "execution_count": 21,
   "id": "8aadf7c1",
   "metadata": {},
   "outputs": [
    {
     "name": "stdout",
     "output_type": "stream",
     "text": [
      "it is cold day\n"
     ]
    }
   ],
   "source": [
    "#>, greater than\n",
    "#>=, greater equal to\n",
    "#<, less than \n",
    "#<=, less equal to\n",
    "#!= ;  Not eqial to\n",
    "#==; == equality operator; comapare value, not asigned the value.\n",
    "#= asignment operator or statement, it sets temperature = value \n",
    "\n",
    "temperature = 30\n",
    "\n",
    "if temperature > 30: \n",
    "#`if` produces boolean value True or False. \n",
    "#If True then perform this operation, otherwise proceed to `else`\n",
    "    print('it is hot day')\n",
    "else:\n",
    "    print('it is cold day')\n"
   ]
  },
  {
   "cell_type": "code",
   "execution_count": 22,
   "id": "c9e5260f",
   "metadata": {},
   "outputs": [
    {
     "name": "stdout",
     "output_type": "stream",
     "text": [
      "What is the name: Bahubali\n",
      "The name \"Bahubali\" looks good.\n"
     ]
    }
   ],
   "source": [
    "\n",
    "name = input('What is the name: ')\n",
    "\n",
    "name_length = len(name)\n",
    "#print(name_length)\n",
    "\n",
    "if name_length < 2:\n",
    "    print('The name must at least three characters long.')\n",
    "elif name_length > 20:\n",
    "    print('The name must be less than 20 charater long')\n",
    "else:\n",
    "    print(f'The name \"{name}\" looks good.')"
   ]
  },
  {
   "cell_type": "code",
   "execution_count": 23,
   "id": "8a26ba2b",
   "metadata": {},
   "outputs": [
    {
     "name": "stdout",
     "output_type": "stream",
     "text": [
      "Weight: 107\n",
      "Unit lb/kg: lb\n",
      "Weight in kg: 48.15\n"
     ]
    }
   ],
   "source": [
    "# Weight Converter\n",
    "\n",
    "weight = input('Weight: ')\n",
    "unit = input('Unit lb/kg: ')\n",
    "\n",
    "if unit.upper() == 'LB':\n",
    "    weight_kg = float(weight)*0.45\n",
    "    print('Weight in kg: '+ str(weight_kg))\n",
    "elif unit.upper() == 'KG':\n",
    "    weight_lb = float(weight)/0.45\n",
    "    print('Weight in lb: '+ str(weight_lb))\n",
    "else:\n",
    "    Print('Non Covertable')\n"
   ]
  },
  {
   "cell_type": "markdown",
   "id": "3103cfdc",
   "metadata": {},
   "source": [
    "# `while` loop"
   ]
  },
  {
   "cell_type": "code",
   "execution_count": 24,
   "id": "21c6572e",
   "metadata": {},
   "outputs": [
    {
     "name": "stdout",
     "output_type": "stream",
     "text": [
      "value = 8\n",
      "********\n",
      "*********\n",
      "**********\n",
      "Done\n"
     ]
    }
   ],
   "source": [
    "# While code used for executing block of code ; \n",
    "# often useful to build interactive programme/games\n",
    "\n",
    "#while condition:\n",
    "i = int(input('value = '))\n",
    "while i <= 10:\n",
    "    print('*' * i) #' * ' string will be repeated\n",
    "    i = i +  1  # Do not forgot to increase 'i', otherwise the loop will be infinite.\n",
    "    \n",
    "print('Done')"
   ]
  },
  {
   "cell_type": "markdown",
   "id": "471e2be7",
   "metadata": {},
   "source": [
    "# Simple Games in python"
   ]
  },
  {
   "cell_type": "code",
   "execution_count": 25,
   "id": "e1a1c79f",
   "metadata": {},
   "outputs": [
    {
     "name": "stdout",
     "output_type": "stream",
     "text": [
      "Guess: 8\n",
      "Guess: 3\n",
      "Guess: 4\n",
      "Guess: 6\n",
      "You have lost the game!\n"
     ]
    }
   ],
   "source": [
    "# Guessing Game\n",
    "\n",
    "#Guess the sectret number.\n",
    "\n",
    "secret_number = 9 # this number to be guessed. \n",
    "guess_count = 0   # Initial count '0'\n",
    "guess_limit = 4   # Maximum times, you can guess.\n",
    "while guess_count < guess_limit: #guess times < limit of maximum guess.\n",
    "    guess = int(input('Guess: ')) # Guess the number. \n",
    "    guess_count += 1              # increase 'while' loop\n",
    "    if guess == secret_number:    #If guess the secret number, then winn\n",
    "        print('You Won')\n",
    "        break                     #break here, already guessed. \n",
    "#    else:                        #Try it, this step is not versatile. So we need next step.\n",
    "#        print('You have lost the game!')\n",
    "else:\n",
    "    print('You have lost the game!') "
   ]
  },
  {
   "cell_type": "markdown",
   "id": "956beee8",
   "metadata": {},
   "source": [
    "# `for` loop"
   ]
  },
  {
   "cell_type": "code",
   "execution_count": 26,
   "id": "9323e16b",
   "metadata": {},
   "outputs": [
    {
     "name": "stdout",
     "output_type": "stream",
     "text": [
      "P\n",
      "y\n",
      "t\n",
      "h\n",
      "o\n",
      "n\n"
     ]
    }
   ],
   "source": [
    "# For loop: iterate over collection\n",
    "\n",
    "#for loop-variable\n",
    "#in each oteration loop-variable will hold one item\n",
    "for item in 'Python':\n",
    "    print(item)    "
   ]
  },
  {
   "cell_type": "code",
   "execution_count": 27,
   "id": "00485b21",
   "metadata": {},
   "outputs": [
    {
     "name": "stdout",
     "output_type": "stream",
     "text": [
      "Som\n",
      "Subh\n",
      "Kary\n",
      "1\n",
      "2\n",
      "3\n",
      "4\n",
      "0\n",
      "1\n",
      "2\n",
      "3\n",
      "4\n",
      "5\n",
      "6\n",
      "7\n",
      "8\n",
      "9\n",
      "5\n",
      "6\n",
      "7\n",
      "8\n",
      "9\n",
      "5\n",
      "7\n",
      "9\n"
     ]
    }
   ],
   "source": [
    "# List using []; which is list of items\n",
    "\n",
    "for item in ['Som', 'Subh', 'Kary']:\n",
    "    print(item)\n",
    "    \n",
    "for item in [1, 2, 3, 4]:\n",
    "    print(item)\n",
    "    \n",
    "for item in range(10): #range(10): built-in function; special kind of object\n",
    "    print(item)\n",
    "    \n",
    "for item in range(5, 10):\n",
    "    print(item)\n",
    "\n",
    "    \n",
    "for item in range(5, 10, 2):\n",
    "    print(item)\n",
    "    "
   ]
  },
  {
   "cell_type": "code",
   "execution_count": 28,
   "id": "ee47c63a",
   "metadata": {},
   "outputs": [
    {
     "name": "stdout",
     "output_type": "stream",
     "text": [
      "Total price is: 60\n"
     ]
    }
   ],
   "source": [
    "# Addition of all items\n",
    "\n",
    "prices = [10,20,30]\n",
    "\n",
    "total = 0\n",
    "for item in prices:\n",
    "    \n",
    "    total +=item #i.e., total = total + item\n",
    "    \n",
    "    #pr = prices[item]\n",
    "    #print(total)\n",
    "print(f'Total price is: {total}')"
   ]
  },
  {
   "cell_type": "code",
   "execution_count": 29,
   "id": "fdcb7208",
   "metadata": {},
   "outputs": [
    {
     "name": "stdout",
     "output_type": "stream",
     "text": [
      "0 0\n",
      "0 1\n",
      "0 2\n",
      "1 0\n",
      "1 1\n",
      "1 2\n",
      "2 0\n",
      "2 1\n",
      "2 2\n",
      "3 0\n",
      "3 1\n",
      "3 2\n"
     ]
    }
   ],
   "source": [
    "# Nested Loop\n",
    "\n",
    "for x in range(4):\n",
    "    for y in range(3):\n",
    "        print(x, y)"
   ]
  },
  {
   "cell_type": "code",
   "execution_count": 30,
   "id": "847dbbd1",
   "metadata": {},
   "outputs": [
    {
     "name": "stdout",
     "output_type": "stream",
     "text": [
      "xxxxx\n",
      "xx\n",
      "xxxxx\n",
      "xx\n",
      "xx\n"
     ]
    }
   ],
   "source": [
    "#multiplication \n",
    "\n",
    "numbers = [5, 2, 5, 2, 2]\n",
    "\n",
    "for i in numbers:\n",
    "    item = 'x'*i\n",
    "    print(item)"
   ]
  },
  {
   "cell_type": "code",
   "execution_count": 31,
   "id": "de721fbd",
   "metadata": {},
   "outputs": [
    {
     "name": "stdout",
     "output_type": "stream",
     "text": [
      "xxxxx\n",
      "xx\n",
      "xxxxx\n",
      "xx\n",
      "xx\n"
     ]
    }
   ],
   "source": [
    "for x_count in numbers:\n",
    "    output = ''\n",
    "    for count in range(x_count):\n",
    "        output += 'x'\n",
    "    print(output)"
   ]
  },
  {
   "cell_type": "markdown",
   "id": "f4ac218d",
   "metadata": {},
   "source": [
    "# Lists"
   ]
  },
  {
   "cell_type": "code",
   "execution_count": 32,
   "id": "7ca101b8",
   "metadata": {},
   "outputs": [
    {
     "name": "stdout",
     "output_type": "stream",
     "text": [
      "Som\n",
      "['Neel', 'Kim']\n",
      "['Som', 'Neel', 'Kim']\n",
      "['Dip', 'Neel', 'Kim']\n"
     ]
    }
   ],
   "source": [
    "\n",
    "names = ['Som', 'Neel', 'Kim']\n",
    "\n",
    "\n",
    "print(names[0])\n",
    "print(names[1:3])\n",
    "print(names[:])\n",
    "\n",
    "names[0] = 'Dip'\n",
    "print(names)\n"
   ]
  },
  {
   "cell_type": "code",
   "execution_count": 33,
   "id": "c78f86dd",
   "metadata": {},
   "outputs": [
    {
     "name": "stdout",
     "output_type": "stream",
     "text": [
      "8\n"
     ]
    }
   ],
   "source": [
    "# Find Maximum Number\n",
    "\n",
    "numbers = [1,  4, 3, 5, 8, 2]\n",
    "maximum = 0 #numbers[0]\n",
    "\n",
    "for item in numbers:\n",
    "    if item >  maximum:\n",
    "        maximum = item\n",
    "print(maximum)\n",
    "    \n",
    "\n"
   ]
  },
  {
   "cell_type": "code",
   "execution_count": 34,
   "id": "3a59573c",
   "metadata": {},
   "outputs": [
    {
     "name": "stdout",
     "output_type": "stream",
     "text": [
      "[[1, 2, 3], [4, 100, 6], [7, 8, 9]]\n"
     ]
    }
   ],
   "source": [
    "# 2D list\n",
    "\n",
    "# Each element of a list is another list\n",
    "\n",
    "matrix = [\n",
    "    [1, 2, 3],\n",
    "    [4, 5, 6],\n",
    "    [7, 8, 9]\n",
    "]\n",
    "matrix[1][1] = 100\n",
    "\n",
    "print(matrix)\n"
   ]
  },
  {
   "cell_type": "code",
   "execution_count": 35,
   "id": "37d4ddcf",
   "metadata": {},
   "outputs": [
    {
     "name": "stdout",
     "output_type": "stream",
     "text": [
      "1\n",
      "2\n",
      "3\n",
      "4\n",
      "100\n",
      "6\n",
      "7\n",
      "8\n",
      "9\n"
     ]
    }
   ],
   "source": [
    "for row in matrix: #in each iteration row will contain one list/row\n",
    "    for item in row:\n",
    "        print(item)\n"
   ]
  },
  {
   "cell_type": "code",
   "execution_count": 37,
   "id": "9e9cff80",
   "metadata": {},
   "outputs": [
    {
     "name": "stdout",
     "output_type": "stream",
     "text": [
      "[5, 2, 1, 7, 4, 20]\n",
      "[2, 5, 2, 1, 7, 4, 20]\n",
      "[2, 2, 1, 7, 4, 20]\n",
      "[]\n",
      "[5, 2, 1, 7]\n",
      "False\n",
      "2\n",
      "None\n",
      "[1, 2, 4, 5, 5, 7]\n",
      "[7, 5, 5, 4, 2, 1]\n",
      "[9, 20, 1, 70, 55, 4]\n"
     ]
    }
   ],
   "source": [
    "# List Methods or list function\n",
    "\n",
    "numbers = [5, 2, 1,7,4]\n",
    "numbers.append(20) #Append add number at the end\n",
    "print(numbers)\n",
    "###############\n",
    "\n",
    "numbers.insert(0, 2)# 0 index; 2 inseted number\n",
    "print(numbers)\n",
    "##############\n",
    "\n",
    "numbers.remove(5) # remove value\n",
    "print(numbers)\n",
    "#############\n",
    "numbers.clear() # clear all item\n",
    "print(numbers)\n",
    "#####################\n",
    "numbers = [5, 2, 1,7,4]\n",
    "numbers.pop() # pick-up last item \n",
    "#numbers.pop(index) # pick-up indexed number\n",
    "print(numbers)\n",
    "########################\n",
    "numbers.index(5) # return the index of the value 5\n",
    "####################\n",
    "\n",
    "print(50 in numbers) # provide boolean value\n",
    "\n",
    "#############\n",
    "numbers = [5, 2, 1, 7, 5, 4]\n",
    "print(numbers.count(5)) # counted number of 5\n",
    "\n",
    "print(numbers.sort()) # It will sort but no value : None\n",
    "\n",
    "#to get sorted list\n",
    "numbers.sort()\n",
    "print(numbers) # will print sorted values\n",
    "##################\n",
    "\n",
    "numbers.reverse() #reverses the sorted list\n",
    "print(numbers)\n",
    "####################\n",
    "numbers = [5, 2, 1, 7, 5, 4]\n",
    "numbers2 = numbers.copy() # copy the original list\n",
    "\n",
    "##remove duplicates\n",
    "numbers = [9, 20, 1, 70, 55, 55, 4]\n",
    "uniques = []\n",
    "for number in numbers:\n",
    "    if number not in uniques:\n",
    "        uniques.append(number)\n",
    "print(uniques)\n",
    "\n"
   ]
  },
  {
   "cell_type": "markdown",
   "id": "6585f062",
   "metadata": {},
   "source": [
    "# Tuples\n",
    "*They are like lists. But unlike list, then canot be modified. immutable*"
   ]
  },
  {
   "cell_type": "code",
   "execution_count": 38,
   "id": "52287edb",
   "metadata": {},
   "outputs": [
    {
     "name": "stdout",
     "output_type": "stream",
     "text": [
      "1\n"
     ]
    }
   ],
   "source": [
    "\n",
    "\n",
    "numbers = (1, 2, 3) #parenthesis to define tuple\n",
    "\n",
    "print(numbers[0])\n",
    "    \n",
    "    "
   ]
  },
  {
   "cell_type": "code",
   "execution_count": 39,
   "id": "b9486eed",
   "metadata": {},
   "outputs": [
    {
     "name": "stdout",
     "output_type": "stream",
     "text": [
      "1\n"
     ]
    }
   ],
   "source": [
    "# Unpacking\n",
    "\n",
    "coordinates = (1, 2, 3)\n",
    "x = coordinates[0]\n",
    "y = coordinates[1]\n",
    "z = coordinates[2]\n",
    "\n",
    "dis = x*y*z\n",
    "\n",
    "x1, y1, z1 = coordinates # called unpacking\n",
    "\n",
    "\n",
    "#for list\n",
    "coordinates = [1, 2, 3]\n",
    "x1, y1, z1 = coordinates # called unpacking\n",
    "print(x1)\n"
   ]
  },
  {
   "cell_type": "markdown",
   "id": "92e0e4ce",
   "metadata": {},
   "source": [
    "# dictionaries"
   ]
  },
  {
   "cell_type": "code",
   "execution_count": 40,
   "id": "0d14ce88",
   "metadata": {},
   "outputs": [
    {
     "name": "stdout",
     "output_type": "stream",
     "text": [
      "1\n",
      "5000\n",
      "john Smith\n",
      "john Smith\n",
      "Feb 10, 1988\n",
      "{'name': 'Jacky', 'age': 30, 'is_varified': True, 'any_val': 1, 2: 5000, 'birthdate': 'June 01, 1900'}\n"
     ]
    }
   ],
   "source": [
    "\n",
    "customer = {         #curly braces\n",
    "    \"name\": \"john Smith\",   # Key:  value; key can be string/numbers\n",
    "                            #value can be string/numbers/boolean\n",
    "    \"age\": 30,\n",
    "    \"is_varified\": True,\n",
    "    \"any_val\": 1,\n",
    "    2: 5000\n",
    "}  \n",
    "\n",
    "#access disctionary\n",
    "print(customer[\"any_val\"]) #I performed a test, \" \" must be required.\n",
    "print(customer[2])\n",
    "print(customer[\"name\"])\n",
    "print(customer.get(\"name\"))\n",
    "print(customer.get(\"birthdate\", \"Feb 10, 1988\"))\n",
    "\n",
    "# update the name\n",
    "customer[\"name\"] = \"Jacky\" # update\n",
    "customer[\"birthdate\"] = \"June 01, 1900\" # add\n",
    "\n",
    "print(customer)"
   ]
  },
  {
   "cell_type": "code",
   "execution_count": 41,
   "id": "8ccc748d",
   "metadata": {},
   "outputs": [
    {
     "name": "stdout",
     "output_type": "stream",
     "text": [
      "Type number: 2\n",
      "two  \n"
     ]
    }
   ],
   "source": [
    "number_dictionary = {\n",
    "    \"1\": \"one\",\n",
    "    \"2\": \"two\",\n",
    "    \"3\": \"three\"\n",
    "}\n",
    "\n",
    "value = input(\"Type number: \")\n",
    "\n",
    "output = \"\"\n",
    "for inp in value:\n",
    "    #print(number_dictionary[inp])\n",
    "    #print(number_dictionary.get(inp, \"??\"))\n",
    "    output += number_dictionary.get(inp, \"??\")+\"  \"\n",
    "    \n",
    "print(output)\n"
   ]
  },
  {
   "cell_type": "markdown",
   "id": "535b69c4",
   "metadata": {},
   "source": [
    "# Function"
   ]
  },
  {
   "cell_type": "code",
   "execution_count": 42,
   "id": "4835f0f1",
   "metadata": {},
   "outputs": [
    {
     "name": "stdout",
     "output_type": "stream",
     "text": [
      "####\n",
      "Hi\n",
      "####\n"
     ]
    }
   ],
   "source": [
    "\n",
    "\n",
    "\n",
    "def greet_user():\n",
    "    print('Hi')\n",
    "\n",
    "    \n",
    "print(\"####\")\n",
    "greet_user()\n",
    "print(\"####\")\n",
    "\n"
   ]
  },
  {
   "cell_type": "code",
   "execution_count": 43,
   "id": "8b716852",
   "metadata": {},
   "outputs": [
    {
     "name": "stdout",
     "output_type": "stream",
     "text": [
      "####\n",
      "Hi Som\n",
      "Hi Mary\n",
      "####\n"
     ]
    }
   ],
   "source": [
    "# Parameters\n",
    "def greet_user(name):\n",
    "    print(f'Hi {name}')\n",
    "\n",
    "print(\"####\")\n",
    "greet_user(\"Som\")\n",
    "greet_user(\"Mary\")\n",
    "print(\"####\")\n",
    "\n",
    "\n"
   ]
  },
  {
   "cell_type": "code",
   "execution_count": 44,
   "id": "cadc8903",
   "metadata": {},
   "outputs": [
    {
     "name": "stdout",
     "output_type": "stream",
     "text": [
      "####\n",
      "Hi Donald Lee\n",
      "####\n"
     ]
    }
   ],
   "source": [
    "# Keyword Arguments\n",
    "\n",
    "# Parameters\n",
    "def greet_user(first_name, second_name):\n",
    "    print(f'Hi {first_name} {second_name}')\n",
    "\n",
    "print(\"####\")\n",
    "greet_user(first_name = \"Donald\",second_name = \"Lee\")# Defining Keyword Arguments, will fix\n",
    "print(\"####\")\n"
   ]
  },
  {
   "cell_type": "code",
   "execution_count": 45,
   "id": "2e984a4e",
   "metadata": {},
   "outputs": [
    {
     "data": {
      "text/plain": [
       "9"
      ]
     },
     "execution_count": 45,
     "metadata": {},
     "output_type": "execute_result"
    }
   ],
   "source": [
    "# Return Statements\n",
    "\n",
    "def square(number):\n",
    "    return number*number\n",
    "\n",
    "square(3)\n"
   ]
  },
  {
   "cell_type": "markdown",
   "id": "5dc18c98",
   "metadata": {},
   "source": [
    "# Exceptions"
   ]
  },
  {
   "cell_type": "code",
   "execution_count": 46,
   "id": "87c77ad1",
   "metadata": {},
   "outputs": [
    {
     "name": "stdout",
     "output_type": "stream",
     "text": [
      "Age: 0\n",
      "Age can not be 0\n"
     ]
    }
   ],
   "source": [
    "\n",
    "\n",
    "try:  \n",
    "    age = int(input('Age: '))\n",
    "    income = 20000\n",
    "    risk = income / age\n",
    "    print(age)\n",
    "except ZeroDivisionError:\n",
    "    print('Age can not be 0')\n",
    "except ValueError:\n",
    "    print(\"invalid value\")\n",
    "\n",
    "\n",
    "\n"
   ]
  },
  {
   "cell_type": "markdown",
   "id": "21abf88e",
   "metadata": {},
   "source": [
    "# Class"
   ]
  },
  {
   "cell_type": "code",
   "execution_count": 47,
   "id": "56da1481",
   "metadata": {},
   "outputs": [
    {
     "name": "stdout",
     "output_type": "stream",
     "text": [
      "Corey.Schafer@gmail.com\n",
      "Test.User@gmail.com\n",
      "Corey Schafer\n",
      "Test User\n",
      "Corey Schafer\n"
     ]
    }
   ],
   "source": [
    "# from youtube :  WsCube Tech\n",
    "class Employee:\n",
    "    def __init__(self, first, last, pay):   # This is method. Special init method, initialize as self\n",
    "        self.first = first                  #It receive the first instances as an argument automatically.\n",
    "        self.last = last                   #instanes can be called self\n",
    "        self.pay = pay                  # It will receive argument first, last, pay\n",
    "        self.email = first+ '.' +last+'@gmail.com'   \n",
    "#self is an instance        \n",
    "\n",
    "    def fullname(self):\n",
    "        return '{} {}'.format(self.first, self.last)\n",
    "        \n",
    "        \n",
    "# \"class\" is Blueprint for creating \"instances\"\n",
    "emp_1 = Employee('Corey', 'Schafer', 50000)\n",
    "emp_2 = Employee('Test', 'User', 60000) \n",
    "\n",
    "#Above two instances \n",
    "\n",
    "#print(emp_1)\n",
    "#print(emp_2)\n",
    "\n",
    "\n",
    "\n",
    "print(emp_1.email)\n",
    "print(emp_2.email)\n",
    "\n",
    "print(emp_1.fullname()) #This is method instead of attribute, so we need parenthesis\n",
    "print(emp_2.fullname()) #here parenthesis needed\n",
    "# or\n",
    "print(Employee.fullname(emp_1)) #here  put emp_1"
   ]
  },
  {
   "cell_type": "markdown",
   "id": "c97c4e5c",
   "metadata": {},
   "source": [
    "# Modules"
   ]
  },
  {
   "cell_type": "code",
   "execution_count": 48,
   "id": "d1853b09",
   "metadata": {},
   "outputs": [
    {
     "data": {
      "text/plain": [
       "4.444444444444445"
      ]
     },
     "execution_count": 48,
     "metadata": {},
     "output_type": "execute_result"
    }
   ],
   "source": [
    "\n",
    "import converters\n",
    "from converters import kg_to_lbs\n",
    "converters.kg_to_lbs(2)"
   ]
  },
  {
   "cell_type": "code",
   "execution_count": 49,
   "id": "19cb63c8",
   "metadata": {},
   "outputs": [
    {
     "data": {
      "text/plain": [
       "45.0"
      ]
     },
     "execution_count": 49,
     "metadata": {},
     "output_type": "execute_result"
    }
   ],
   "source": [
    "# create Packages\n",
    "#create a directory > add blanck file __init__.py > add other **.py codes\n",
    "\n",
    "#e.g. a package name:  \"package_create\" , inside there \"converters.py\" is a code. \n",
    "# The directory also contain a blanck code \"__init__.py\"\n",
    "from package_create import converters\n",
    "\n",
    "converters.lbs_to_kg(100)\n",
    "\n"
   ]
  },
  {
   "cell_type": "markdown",
   "id": "d8111ca3",
   "metadata": {},
   "source": [
    "# Generating Random Values"
   ]
  },
  {
   "cell_type": "code",
   "execution_count": 50,
   "id": "ced0fa37",
   "metadata": {},
   "outputs": [
    {
     "name": "stdout",
     "output_type": "stream",
     "text": [
      "0.17989174388691787\n",
      "0.026056414489497248\n",
      "0.6245276212235051\n",
      "11\n",
      "15\n",
      "17\n",
      "Taipei\n"
     ]
    }
   ],
   "source": [
    "\n",
    "\n",
    "# Built in modules, standard library\n",
    "# search google:  python 3 module index\n",
    "\n",
    "\n",
    "import random #Python interpretor knows that random is built-in\n",
    "\n",
    "# random object; find methods using . operator\n",
    "for i in range(3):\n",
    "    print(random.random())#it creates value from 0 to 1\n",
    "\n",
    "    \n",
    "##############    \n",
    "for i in range(3):\n",
    "    print(random.randint(10, 20))#it creates value from 10 to 20\n",
    "\n",
    "    \n",
    "############\n",
    "members = ['Kolkata', 'Boston', 'Taipei']\n",
    "leader = random.choice(members)\n",
    "print(leader)\n"
   ]
  },
  {
   "cell_type": "markdown",
   "id": "0aa5e4a8",
   "metadata": {},
   "source": [
    "# For advanced python course and AI/ML follow my website.\n",
    "*- Ends -*"
   ]
  }
 ],
 "metadata": {
  "kernelspec": {
   "display_name": "Python 3 (ipykernel)",
   "language": "python",
   "name": "python3"
  },
  "language_info": {
   "codemirror_mode": {
    "name": "ipython",
    "version": 3
   },
   "file_extension": ".py",
   "mimetype": "text/x-python",
   "name": "python",
   "nbconvert_exporter": "python",
   "pygments_lexer": "ipython3",
   "version": "3.11.2"
  }
 },
 "nbformat": 4,
 "nbformat_minor": 5
}
